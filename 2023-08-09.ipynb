{
 "cells": [
  {
   "cell_type": "code",
   "execution_count": null,
   "id": "99505b0c-6cb7-45b8-afdb-363d794401ea",
   "metadata": {},
   "outputs": [],
   "source": [
    "# Clase 1: Diseño y uso de funciones"
   ]
  },
  {
   "cell_type": "code",
   "execution_count": null,
   "id": "21215943-3a31-4ec1-a848-739df63b55e3",
   "metadata": {},
   "outputs": [],
   "source": [
    "## Funciones"
   ]
  },
  {
   "cell_type": "code",
   "execution_count": null,
   "id": "1da3ff6a-54e2-40ed-a89c-3c8848385d9a",
   "metadata": {},
   "outputs": [],
   "source": [
    "### Las funciones se usan para agrupar tareas repetitivas.\n",
    "\n",
    "### Mi compromiso es que cualquier persona que vaya a leer el código lo pueda entender.\n",
    "\n",
    "# areaCirculo: num -> float\n",
    "# calcula area de un circulo de radio radio\n",
    "# ejemplo: areaCirculo(1) entrega 3.14\n",
    "def areaCirculo(radio):\n",
    "    pi = 3.14\n",
    "    return pi * radio ** 2\n",
    "    \n",
    "### Importante notar los dos puntos, la indentación, y las mayúsculas y minúsculas.\n",
    "\n",
    "### La función previamente definida retorna el área de un círculo, en este caso de radio 1.\n",
    "\n",
    "print(areaCirculo(1))\n",
    "\n",
    "### Se puede testear los valores de una función con assert\n",
    "\n",
    "assert areaCirculo(1) == 3.14"
   ]
  },
  {
   "cell_type": "code",
   "execution_count": null,
   "id": "f78a4387-957a-4d7a-ab01-8f990c75a0c8",
   "metadata": {},
   "outputs": [],
   "source": [
    "areacirculo != areaCirculo"
   ]
  },
  {
   "cell_type": "code",
   "execution_count": 5,
   "id": "149782dd-d5a0-4848-98e3-296dae310b3d",
   "metadata": {},
   "outputs": [
    {
     "ename": "SyntaxError",
     "evalue": "expected ':' (3316713568.py, line 1)",
     "output_type": "error",
     "traceback": [
      "\u001b[1;36m  Cell \u001b[1;32mIn[5], line 1\u001b[1;36m\u001b[0m\n\u001b[1;33m    def areaCirculo2(radio)\u001b[0m\n\u001b[1;37m                           ^\u001b[0m\n\u001b[1;31mSyntaxError\u001b[0m\u001b[1;31m:\u001b[0m expected ':'\n"
     ]
    }
   ],
   "source": [
    "def areaCirculo2(radio)\n",
    "    pi = 3.14\n",
    "    return pi * radio ** 2"
   ]
  },
  {
   "cell_type": "code",
   "execution_count": 6,
   "id": "1669b9bf-9657-470d-b60c-90bb2210b924",
   "metadata": {},
   "outputs": [
    {
     "ename": "IndentationError",
     "evalue": "expected an indented block after function definition on line 1 (1061489896.py, line 2)",
     "output_type": "error",
     "traceback": [
      "\u001b[1;36m  Cell \u001b[1;32mIn[6], line 2\u001b[1;36m\u001b[0m\n\u001b[1;33m    pi = 3.14\u001b[0m\n\u001b[1;37m    ^\u001b[0m\n\u001b[1;31mIndentationError\u001b[0m\u001b[1;31m:\u001b[0m expected an indented block after function definition on line 1\n"
     ]
    }
   ],
   "source": [
    "def areaCirculo3(radio):\n",
    "pi = 3.14\n",
    "return pi * radio ** 2"
   ]
  },
  {
   "cell_type": "code",
   "execution_count": 19,
   "id": "d562005c-c127-40af-9479-ef9171bfc4e4",
   "metadata": {},
   "outputs": [
    {
     "name": "stdout",
     "output_type": "stream",
     "text": [
      "9.42\n"
     ]
    }
   ],
   "source": [
    "### Ahora hacemos el área de un anillo.\n",
    "\n",
    "# areaCirculo: num -> float\n",
    "# calcula area de un circulo de radio radio\n",
    "# ejemplo: areaCirculo(1) entrega 3.14\n",
    "def areaCirculo(radio):\n",
    "    pi = 3.14\n",
    "    return pi * radio ** 2\n",
    "\n",
    "# areaAnillo núm -> float\n",
    "# cálcula el área de un anillo formado\n",
    "# dos círculos de radios rMayor y rMenor\n",
    "# ej: areaAnillo(2,1) entrega 9.42\n",
    "def areaAnillo(rMayor, rMenor):\n",
    "    assert rMayor >= rMenor\n",
    "    pi = 3.14\n",
    "    return areaCirculo(2) - areaCirculo(1)\n",
    "\n",
    "print(areaAnillo(2,1))"
   ]
  },
  {
   "cell_type": "code",
   "execution_count": null,
   "id": "0a5917c8-cc7b-4a01-9014-6d052f120edc",
   "metadata": {},
   "outputs": [],
   "source": [
    "### Receta de diseño\n",
    "\n",
    "#### Toda función debe explicar qué hace:\n",
    "\n",
    "##### Para qué está hecha\n",
    "##### Cuál o cuáles son sus entradas\n",
    "##### Cuál es su salida\n",
    "##### Un ejemplo explicativo\n",
    "##### Hay que comprobar que hace lo correcto"
   ]
  },
  {
   "cell_type": "code",
   "execution_count": null,
   "id": "0aafcc1d-3bad-44c1-b891-11d0c2f0a578",
   "metadata": {},
   "outputs": [],
   "source": [
    "# 1. Entender el propósito de la función"
   ]
  },
  {
   "cell_type": "code",
   "execution_count": null,
   "id": "334a43d4-8c5b-4089-ae44-ce5adfd8ed9c",
   "metadata": {},
   "outputs": [],
   "source": [
    "# 1.1 Dar un nombre representativo a la función\n",
    "# 1.2 Indicar lo que recibe, sus parámetros\n",
    "# 1.3 Indicar lo que produce, lo que retorna\n",
    "\n",
    "# !!! Esto es el contrato !!!"
   ]
  },
  {
   "cell_type": "code",
   "execution_count": 20,
   "id": "6d4dd2f5-981f-483a-8410-4771b2a7cfd3",
   "metadata": {},
   "outputs": [
    {
     "ename": "SyntaxError",
     "evalue": "invalid syntax (747764578.py, line 5)",
     "output_type": "error",
     "traceback": [
      "\u001b[1;36m  Cell \u001b[1;32mIn[20], line 5\u001b[1;36m\u001b[0m\n\u001b[1;33m    int a = 1\u001b[0m\n\u001b[1;37m        ^\u001b[0m\n\u001b[1;31mSyntaxError\u001b[0m\u001b[1;31m:\u001b[0m invalid syntax\n"
     ]
    }
   ],
   "source": [
    "# Qué consume / Qué produce\n",
    "\n",
    "\n",
    "## Tipo Entero: Se representa con la palabra int\n",
    "a = 1\n",
    "\n",
    "## Tipo Real: Se representa con la palabra float\n",
    "float b = 1.1\n",
    "\n",
    "## Tipo Numérico (real o entero): Se representa con la palabra num\n",
    "num c = 2\n",
    "num d = 2.1\n",
    "\n",
    "## Tipo Lógico (verdadero o falso): Se representa con la palabra bool\n",
    "bool e = True\n",
    "bool f = False\n",
    "\n",
    "## Tipo Texto: Se representa con la palabra string\n",
    "string g = \"Hola, mundo!\""
   ]
  },
  {
   "cell_type": "code",
   "execution_count": null,
   "id": "4d48145a-ce39-412d-b10d-f5e893a67b5a",
   "metadata": {},
   "outputs": [],
   "source": [
    "# Probar la función\n",
    "\n",
    "## assert: orientado a hacer una prueba\n"
   ]
  },
  {
   "cell_type": "code",
   "execution_count": null,
   "id": "28f74603-97dc-4eb6-8d19-855c2d21abcc",
   "metadata": {},
   "outputs": [],
   "source": [
    "numero // 10**k * 10**(k-1) + numero % 10**(k-1)"
   ]
  },
  {
   "cell_type": "code",
   "execution_count": 1,
   "id": "c604e143-8e29-4a04-9884-685f01142f1b",
   "metadata": {},
   "outputs": [
    {
     "name": "stdout",
     "output_type": "stream",
     "text": [
      "23456\n"
     ]
    }
   ],
   "source": [
    "# eliminarKEsimo int -̀> int\n",
    "# Elimina el k-ésimo dígito de un número entero de 6 dígitos, con k entre 1 y 6.\n",
    "# Ejemplo: eliminarKEsimo(123456, 3) retorna 12356\n",
    "def eliminarKEsimo(numero, k):\n",
    "    return numero // 10**k * 10**(k-1) + numero % 10**(k-1)\n",
    "\n",
    "# Test\n",
    "assert eliminarKEsimo(123456, 3) == 12356\n",
    "\n",
    "print(eliminarKEsimo(123456, 6))"
   ]
  }
 ],
 "metadata": {
  "kernelspec": {
   "display_name": "Python 3 (ipykernel)",
   "language": "python",
   "name": "python3"
  },
  "language_info": {
   "codemirror_mode": {
    "name": "ipython",
    "version": 3
   },
   "file_extension": ".py",
   "mimetype": "text/x-python",
   "name": "python",
   "nbconvert_exporter": "python",
   "pygments_lexer": "ipython3",
   "version": "3.11.4"
  }
 },
 "nbformat": 4,
 "nbformat_minor": 5
}
