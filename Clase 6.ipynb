{
 "cells": [
  {
   "cell_type": "code",
   "execution_count": 1,
   "id": "b942333a-f4a7-45f5-8680-62ba2c825caa",
   "metadata": {},
   "outputs": [],
   "source": [
    "# Clase 6: Recursividad (Parte 2)"
   ]
  },
  {
   "cell_type": "code",
   "execution_count": 4,
   "id": "d76d3310-3cf3-49af-b4b2-5d6bc1aa2213",
   "metadata": {},
   "outputs": [],
   "source": [
    "## Función recursiva:\n",
    "## Aquella función que en su cálculo se llama a sí misma y tiene por lo menos un caso base.\n",
    "## -> Caso o casos base\n",
    "## -> Caso recursivo"
   ]
  },
  {
   "cell_type": "code",
   "execution_count": null,
   "id": "61015384-b76f-4415-a498-6975a2c9db6f",
   "metadata": {},
   "outputs": [],
   "source": [
    "## Entero a binario"
   ]
  },
  {
   "cell_type": "code",
   "execution_count": null,
   "id": "20d41a4a-a2c9-4b14-9ca7-0ce72a2cc994",
   "metadata": {},
   "outputs": [],
   "source": [
    "## 4 -> 100"
   ]
  },
  {
   "cell_type": "code",
   "execution_count": null,
   "id": "651616bd-57f0-4e36-8cc8-797b7d881529",
   "metadata": {},
   "outputs": [],
   "source": [
    "# Ejercicio: Determinar si un número es binario o no"
   ]
  },
  {
   "cell_type": "code",
   "execution_count": 26,
   "id": "be902db4-5d26-48ec-9e6b-a0b670e62769",
   "metadata": {},
   "outputs": [],
   "source": [
    "# isBin(int -> bool)\n",
    "# Calcula si un número dado es verdadero o falso\n",
    "# ej: isBin(10101) retorna True\n",
    "# ej: isBin(10201) retorna False\n",
    "def isBin(numero):\n",
    "    numeroSinUltimo = numero // 10\n",
    "    ultimo = numero % 10\n",
    "    if (numero == 0 or numero == 1):\n",
    "        return True\n",
    "    else:\n",
    "        return (ultimo == 0 or ultimo == 1) and isBin(numeroSinUltimo)\n",
    "\n",
    "# Test\n",
    "assert isBin(10101)\n",
    "assert not isBin(10201)\n",
    "assert isBin(11)"
   ]
  },
  {
   "cell_type": "code",
   "execution_count": null,
   "id": "e13a4377-979a-4e38-8ab5-3aec6149724b",
   "metadata": {},
   "outputs": [],
   "source": [
    "# Ejercicio: Calcular la representación base 10 de un número binario"
   ]
  },
  {
   "cell_type": "code",
   "execution_count": 37,
   "id": "85614509-b0fc-4d74-8493-2693b8134ff3",
   "metadata": {},
   "outputs": [
    {
     "data": {
      "text/plain": [
       "8"
      ]
     },
     "execution_count": 37,
     "metadata": {},
     "output_type": "execute_result"
    }
   ],
   "source": [
    "# bin2int(int -> int)\n",
    "# Calcular la representación base 10 de un número binario dado\n",
    "# ej: bin2int(10101) retorna 21\n",
    "def bin2int(binario):\n",
    "    assert isBin(binario)\n",
    "    \n",
    "    ultimo = binario % 10\n",
    "    numeroSinUltimo = binario // 10\n",
    "    \n",
    "    if (binario == 0 or binario == 1):\n",
    "        return 2**binario\n",
    "    else:\n",
    "        return 2**ultimo + bin2int(numeroSinUltimo)\n",
    "\n",
    "bin2int(10101)"
   ]
  },
  {
   "cell_type": "code",
   "execution_count": null,
   "id": "337e1ad0-8dfa-4e33-ad33-eead598123b4",
   "metadata": {},
   "outputs": [],
   "source": [
    "## Strings"
   ]
  },
  {
   "cell_type": "code",
   "execution_count": null,
   "id": "e332e23e-71b0-40e9-9f0c-0dc1147e4ee9",
   "metadata": {},
   "outputs": [],
   "source": [
    "### Se puede acceder a una letra o un subconjunto de un palabra con un índice o rango entre corchetes"
   ]
  },
  {
   "cell_type": "code",
   "execution_count": 42,
   "id": "9e83b337-9470-45b5-9962-566043efd206",
   "metadata": {},
   "outputs": [
    {
     "name": "stdout",
     "output_type": "stream",
     "text": [
      "S\n",
      "a\n",
      "t\n",
      "ntia\n"
     ]
    }
   ],
   "source": [
    "palabra = 'Santiago'\n",
    "\n",
    "print(palabra[0])\n",
    "print(palabra[1])\n",
    "print(palabra[3])\n",
    "print(palabra[2:6])"
   ]
  },
  {
   "cell_type": "code",
   "execution_count": null,
   "id": "42d81ddb-5f27-4d75-a687-df934ed0220d",
   "metadata": {},
   "outputs": [],
   "source": [
    "# Ejercicio recuperativo: retornar una palabra sin sus vocales"
   ]
  },
  {
   "cell_type": "code",
   "execution_count": 90,
   "id": "2b5730b1-a91e-422c-9e60-83cf3809893f",
   "metadata": {},
   "outputs": [
    {
     "ename": "RecursionError",
     "evalue": "maximum recursion depth exceeded",
     "output_type": "error",
     "traceback": [
      "\u001b[1;31m---------------------------------------------------------------------------\u001b[0m",
      "\u001b[1;31mRecursionError\u001b[0m                            Traceback (most recent call last)",
      "Cell \u001b[1;32mIn[90], line 29\u001b[0m\n\u001b[0;32m     26\u001b[0m         \u001b[38;5;28;01mreturn\u001b[39;00m palabraNueva\n\u001b[0;32m     27\u001b[0m     \u001b[38;5;28;01mreturn\u001b[39;00m palabraNueva\n\u001b[1;32m---> 29\u001b[0m \u001b[43msinVocales\u001b[49m\u001b[43m(\u001b[49m\u001b[38;5;124;43m'\u001b[39;49m\u001b[38;5;124;43mEduardo\u001b[39;49m\u001b[38;5;124;43m'\u001b[39;49m\u001b[43m)\u001b[49m\n",
      "Cell \u001b[1;32mIn[90], line 24\u001b[0m, in \u001b[0;36msinVocales\u001b[1;34m(palabra)\u001b[0m\n\u001b[0;32m     21\u001b[0m palabraNueva \u001b[38;5;241m=\u001b[39m palabra\n\u001b[0;32m     23\u001b[0m \u001b[38;5;28;01mif\u001b[39;00m \u001b[38;5;129;01mnot\u001b[39;00m (longitud \u001b[38;5;241m-\u001b[39m \u001b[38;5;241m1\u001b[39m \u001b[38;5;241m==\u001b[39m \u001b[38;5;241m0\u001b[39m):\n\u001b[1;32m---> 24\u001b[0m     palabraNueva \u001b[38;5;241m=\u001b[39m \u001b[43msinVocales\u001b[49m\u001b[43m(\u001b[49m\u001b[43mpalabra\u001b[49m\u001b[43m[\u001b[49m\u001b[38;5;241;43m0\u001b[39;49m\u001b[43m:\u001b[49m\u001b[43m(\u001b[49m\u001b[43mlongitud\u001b[49m\u001b[43m \u001b[49m\u001b[38;5;241;43m-\u001b[39;49m\u001b[43m \u001b[49m\u001b[38;5;241;43m1\u001b[39;49m\u001b[43m)\u001b[49m\u001b[43m]\u001b[49m\u001b[43m)\u001b[49m\n\u001b[0;32m     25\u001b[0m \u001b[38;5;28;01melse\u001b[39;00m:\n\u001b[0;32m     26\u001b[0m     \u001b[38;5;28;01mreturn\u001b[39;00m palabraNueva\n",
      "Cell \u001b[1;32mIn[90], line 24\u001b[0m, in \u001b[0;36msinVocales\u001b[1;34m(palabra)\u001b[0m\n\u001b[0;32m     21\u001b[0m palabraNueva \u001b[38;5;241m=\u001b[39m palabra\n\u001b[0;32m     23\u001b[0m \u001b[38;5;28;01mif\u001b[39;00m \u001b[38;5;129;01mnot\u001b[39;00m (longitud \u001b[38;5;241m-\u001b[39m \u001b[38;5;241m1\u001b[39m \u001b[38;5;241m==\u001b[39m \u001b[38;5;241m0\u001b[39m):\n\u001b[1;32m---> 24\u001b[0m     palabraNueva \u001b[38;5;241m=\u001b[39m \u001b[43msinVocales\u001b[49m\u001b[43m(\u001b[49m\u001b[43mpalabra\u001b[49m\u001b[43m[\u001b[49m\u001b[38;5;241;43m0\u001b[39;49m\u001b[43m:\u001b[49m\u001b[43m(\u001b[49m\u001b[43mlongitud\u001b[49m\u001b[43m \u001b[49m\u001b[38;5;241;43m-\u001b[39;49m\u001b[43m \u001b[49m\u001b[38;5;241;43m1\u001b[39;49m\u001b[43m)\u001b[49m\u001b[43m]\u001b[49m\u001b[43m)\u001b[49m\n\u001b[0;32m     25\u001b[0m \u001b[38;5;28;01melse\u001b[39;00m:\n\u001b[0;32m     26\u001b[0m     \u001b[38;5;28;01mreturn\u001b[39;00m palabraNueva\n",
      "    \u001b[1;31m[... skipping similar frames: sinVocales at line 24 (2971 times)]\u001b[0m\n",
      "Cell \u001b[1;32mIn[90], line 24\u001b[0m, in \u001b[0;36msinVocales\u001b[1;34m(palabra)\u001b[0m\n\u001b[0;32m     21\u001b[0m palabraNueva \u001b[38;5;241m=\u001b[39m palabra\n\u001b[0;32m     23\u001b[0m \u001b[38;5;28;01mif\u001b[39;00m \u001b[38;5;129;01mnot\u001b[39;00m (longitud \u001b[38;5;241m-\u001b[39m \u001b[38;5;241m1\u001b[39m \u001b[38;5;241m==\u001b[39m \u001b[38;5;241m0\u001b[39m):\n\u001b[1;32m---> 24\u001b[0m     palabraNueva \u001b[38;5;241m=\u001b[39m \u001b[43msinVocales\u001b[49m\u001b[43m(\u001b[49m\u001b[43mpalabra\u001b[49m\u001b[43m[\u001b[49m\u001b[38;5;241;43m0\u001b[39;49m\u001b[43m:\u001b[49m\u001b[43m(\u001b[49m\u001b[43mlongitud\u001b[49m\u001b[43m \u001b[49m\u001b[38;5;241;43m-\u001b[39;49m\u001b[43m \u001b[49m\u001b[38;5;241;43m1\u001b[39;49m\u001b[43m)\u001b[49m\u001b[43m]\u001b[49m\u001b[43m)\u001b[49m\n\u001b[0;32m     25\u001b[0m \u001b[38;5;28;01melse\u001b[39;00m:\n\u001b[0;32m     26\u001b[0m     \u001b[38;5;28;01mreturn\u001b[39;00m palabraNueva\n",
      "\u001b[1;31mRecursionError\u001b[0m: maximum recursion depth exceeded"
     ]
    }
   ],
   "source": [
    "# esVocal(str -> bool)\n",
    "# Verifica si una letra dada es vocal o no\n",
    "# ej: esVocal('a') retorna True\n",
    "# ej: esVocal('b') retorna False\n",
    "def esVocal(letra):\n",
    "    vocales = ['a', 'e', 'i', 'o', 'u', 'A', 'E', 'I', 'O', 'U']\n",
    "    if letra in vocales:\n",
    "        return True\n",
    "    else:\n",
    "        return False\n",
    "\n",
    "# Test\n",
    "assert esVocal('a')\n",
    "assert not esVocal('b')\n",
    "\n",
    "# sinVocales(str -> str)\n",
    "# retorna una palabra sin sus vocales\n",
    "# ej: sinVocales('Eduardo') retorna 'drd'\n",
    "def sinVocales(palabra):\n",
    "    longitud = len(palabra) - 1\n",
    "    palabraNueva = palabra\n",
    "\n",
    "    if not (longitud - 1 == 0):\n",
    "        palabraNueva = sinVocales(palabra[0:(longitud - 1)])\n",
    "    else:\n",
    "        return palabraNueva\n",
    "    return palabraNueva\n",
    "\n",
    "sinVocales('Eduardo')"
   ]
  }
 ],
 "metadata": {
  "kernelspec": {
   "display_name": "Python 3 (ipykernel)",
   "language": "python",
   "name": "python3"
  },
  "language_info": {
   "codemirror_mode": {
    "name": "ipython",
    "version": 3
   },
   "file_extension": ".py",
   "mimetype": "text/x-python",
   "name": "python",
   "nbconvert_exporter": "python",
   "pygments_lexer": "ipython3",
   "version": "3.11.4"
  }
 },
 "nbformat": 4,
 "nbformat_minor": 5
}
