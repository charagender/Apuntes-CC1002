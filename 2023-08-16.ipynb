{
 "cells": [
  {
   "cell_type": "code",
   "execution_count": 1,
   "id": "33967b8d-6812-476d-9952-06f282c31359",
   "metadata": {},
   "outputs": [],
   "source": [
    "# Clase 4: Booleans y Condiciones"
   ]
  },
  {
   "cell_type": "code",
   "execution_count": 2,
   "id": "193a6224-8eee-4f31-93b3-9341bf65b793",
   "metadata": {},
   "outputs": [],
   "source": [
    "## Booleans"
   ]
  },
  {
   "cell_type": "code",
   "execution_count": 3,
   "id": "607e4012-8bfa-464b-a437-9978f52caff4",
   "metadata": {},
   "outputs": [
    {
     "name": "stdout",
     "output_type": "stream",
     "text": [
      "True\n",
      "False\n",
      "True\n",
      "False\n"
     ]
    }
   ],
   "source": [
    "### Un boolean solo puede ser verdadero o falso\n",
    "\n",
    "print(True == True)\n",
    "print(True == False)\n",
    "print(False == False)\n",
    "print(False != False)"
   ]
  },
  {
   "cell_type": "code",
   "execution_count": 4,
   "id": "bbcfb555-7922-4871-bb75-ec56925a29b2",
   "metadata": {},
   "outputs": [],
   "source": [
    "## Comparación"
   ]
  },
  {
   "cell_type": "code",
   "execution_count": null,
   "id": "3008b314-63bd-4bc4-8cc0-d9fb210f0c26",
   "metadata": {},
   "outputs": [],
   "source": [
    "### Existen distintos tipos de comparación:\n",
    "\n",
    "# ==     Igual?\n",
    "# !=     No es igual?\n",
    "# >=     Mayor o igual que?\n",
    "# >      Mayor que?\n",
    "# <=     Menor o igual que?\n",
    "# <      Menor que?\n",
    "# and    \"y\" lógico\n",
    "# or     \"ó\" lógico\n",
    "# not    Negación lógica"
   ]
  },
  {
   "cell_type": "code",
   "execution_count": 5,
   "id": "abb33593-b5c2-45bc-b5ab-89b1a2930eff",
   "metadata": {},
   "outputs": [],
   "source": [
    "## Funciones booleanas\n",
    "\n",
    "\n",
    "# esPar: int -> boolean\n",
    "# Dado un número, retornar verdadero si es par o falso si es inpar\n",
    "# ej: esPar(2) retorna verdadero y esPar(5) retorna falso\n",
    "def esPar(numero):\n",
    "    return (numero % 2) == 0\n",
    "\n",
    "# Test\n",
    "assert esPar(2)\n",
    "assert not esPar(5)"
   ]
  },
  {
   "cell_type": "code",
   "execution_count": 7,
   "id": "56b8573d-6635-4749-a563-0f7e5bb1ebfc",
   "metadata": {},
   "outputs": [
    {
     "name": "stdin",
     "output_type": "stream",
     "text": [
      "Dime un número:  45\n",
      "Dime un número:  1\n",
      "Dime un número:  5\n"
     ]
    },
    {
     "name": "stdout",
     "output_type": "stream",
     "text": [
      "El número más grande es: 45\n"
     ]
    }
   ],
   "source": [
    "# Problema: Dado tres números, cuál es el más grande?\n",
    "\n",
    "n1 = int(input('Dime un número: '))\n",
    "n2 = int(input('Dime un número: '))\n",
    "n3 = int(input('Dime un número: '))\n",
    "\n",
    "print('El número más grande es:', max(n1, n2, n3))"
   ]
  },
  {
   "cell_type": "code",
   "execution_count": 13,
   "id": "0528e526-08ac-44c6-b8ce-e5b328a830c2",
   "metadata": {},
   "outputs": [
    {
     "name": "stdin",
     "output_type": "stream",
     "text": [
      "Dime un número:  4\n",
      "Dime un número:  7\n",
      "Dime un número:  4352\n"
     ]
    },
    {
     "name": "stdout",
     "output_type": "stream",
     "text": [
      "De menor a mayor, tus números son: 4 7 4352\n"
     ]
    }
   ],
   "source": [
    "# Problema: Dado tres números, imprimirlos de menor a mayor\n",
    "\n",
    "n1 = int(input('Dime un número: '))\n",
    "n2 = int(input('Dime un número: '))\n",
    "n3 = int(input('Dime un número: '))\n",
    "\n",
    "menor = min(n1, n2, n3)\n",
    "mayor = max(n1, n2, n3)\n",
    "medio = (n1 + n2 + n3) - mayor - menor\n",
    "\n",
    "print('De menor a mayor, tus números son:', menor, medio, mayor)"
   ]
  },
  {
   "cell_type": "code",
   "execution_count": 21,
   "id": "4995a80c-4fbc-4132-b9f3-21ebbd9f8db3",
   "metadata": {},
   "outputs": [
    {
     "name": "stdin",
     "output_type": "stream",
     "text": [
      "Dime el número de un mes: 8\n"
     ]
    },
    {
     "name": "stdout",
     "output_type": "stream",
     "text": [
      "El mes tiene 30 días\n"
     ]
    }
   ],
   "source": [
    "# diaDelMes: int -> int\n",
    "# Te dice cuántos días tiene el mes, dado un número de mes\n",
    "# ej: diaDelMes(4) retorna 30\n",
    "def diaDelMes(mes):\n",
    "    if(mes % 2 == 1):\n",
    "        dias = 31\n",
    "    elif(mes == 2):\n",
    "        dias = 28\n",
    "    else:\n",
    "        dias = 30\n",
    "        \n",
    "    return dias\n",
    "\n",
    "# Test\n",
    "assert (diaDelMes(4) == 30)\n",
    "\n",
    "mes = int(input('Dime el número de un mes:'))\n",
    "\n",
    "print('El mes tiene', diaDelMes(mes), 'días')"
   ]
  },
  {
   "cell_type": "code",
   "execution_count": null,
   "id": "a8914253-e023-4184-83b0-d25e96aedcb1",
   "metadata": {},
   "outputs": [],
   "source": [
    "## Condicionales"
   ]
  },
  {
   "cell_type": "code",
   "execution_count": 25,
   "id": "0972755c-ef79-4097-8e84-bf380be03def",
   "metadata": {},
   "outputs": [
    {
     "name": "stdin",
     "output_type": "stream",
     "text": [
      "Dime tu edad 81\n"
     ]
    },
    {
     "name": "stdout",
     "output_type": "stream",
     "text": [
      "Tienes más edad que mis padres!\n"
     ]
    }
   ],
   "source": [
    "### Se puede usar un 'if' para ejecutar código dependiendo si algo es verdad o falso\n",
    "### Puedes usar 'elif' para volver a preguntar por una condición en caso que el 'if' sea falso\n",
    "### Final, puedes usar un 'else' para ejecutar algo en caso de que la condición del 'if' y/o 'elif' sea falsa\n",
    "\n",
    "edad = int(input('Dime tu edad'))\n",
    "\n",
    "if(edad > 50):\n",
    "    print('Tienes más edad que mis padres!')\n",
    "elif(edad > 80):\n",
    "        print('Tienes más edad que incluso mis abuelos!')\n",
    "else:\n",
    "    print('Eres más jóven que toda mi ascendencia!')"
   ]
  },
  {
   "cell_type": "code",
   "execution_count": 26,
   "id": "e6f7250f-931d-4c3d-954c-fb50ac100463",
   "metadata": {},
   "outputs": [],
   "source": [
    "# Ejercicio"
   ]
  },
  {
   "cell_type": "code",
   "execution_count": 57,
   "id": "c27b4910-9f91-430f-8ec6-8bf1d871a456",
   "metadata": {},
   "outputs": [
    {
     "name": "stdin",
     "output_type": "stream",
     "text": [
      "Ingrese piedra(1), papel(2), tijera(3), spock(4), lagarto(5) 5\n"
     ]
    },
    {
     "name": "stdout",
     "output_type": "stream",
     "text": [
      "Jugaste: lagarto\n",
      "Computador jugó: spock\n",
      "Ganador: humano\n"
     ]
    }
   ],
   "source": [
    "import random\n",
    "\n",
    "# cachipunExtremo: int -> string\n",
    "# Retorna \"piedra\", \"papel\", \"tijera\", \"spock\", \"lagarto\", o \"error\" dado un número 1-5 respectivamente\n",
    "# ej: cachipunExtremo(1) retorna \"piedra'\n",
    "def cachipunExtremo(jugada):\n",
    "    if(jugada == 1):\n",
    "        jugada = 'piedra'\n",
    "    elif(jugada == 2):\n",
    "        jugada = 'papel'\n",
    "    elif(jugada == 3):\n",
    "        jugada = 'tijera'\n",
    "    elif(jugada == 4):\n",
    "        jugada = 'spock'\n",
    "    elif(jugada == 5):\n",
    "        jugada = 'lagarto'\n",
    "    else:\n",
    "        jugada = 'error'\n",
    "    \n",
    "    return jugada\n",
    "\n",
    "# Test\n",
    "assert cachipunExtremo(1) == 'piedra'\n",
    "assert cachipunExtremo(4) == 'spock'\n",
    "assert cachipunExtremo(10) == 'error'\n",
    "\n",
    "\n",
    "# calcularGanador: int, int -> string'\n",
    "# Calcular ganador de cachipunExtremo dado dos números\n",
    "# ej: calcularGanador(1, 2) retorna \"humano\"\n",
    "def calcularGanador(humano, cpu):\n",
    "    if(humano == cpu):\n",
    "        ganador = 'empate'\n",
    "    elif(humano > 5 or humano < 1):\n",
    "        ganador = 'computador'\n",
    "    elif(humano == 1):\n",
    "        if(cpu == 3 or cpu == 5):\n",
    "            ganador = 'humano'\n",
    "        else:\n",
    "            ganador = 'computador'\n",
    "    elif(humano == 2):\n",
    "        if(cpu == 1 or cpu == 4):\n",
    "            ganador = 'humano'\n",
    "        else:\n",
    "            ganador = 'computador'\n",
    "    elif(humano == 3):\n",
    "        if(cpu == 2 or cpu == 5):\n",
    "            ganador = 'humano'\n",
    "        else:\n",
    "            ganador = 'computador'\n",
    "    elif(humano == 4):\n",
    "        if(cpu == 1 or cpu == 3):\n",
    "            ganador = 'humano'\n",
    "        else:\n",
    "            ganador = 'computador'\n",
    "    else:\n",
    "        if(cpu == 2 or cpu == 4):\n",
    "            ganador = 'humano'\n",
    "        else:\n",
    "            ganador = 'computador'\n",
    "    \n",
    "    return ganador\n",
    "\n",
    "# Test\n",
    "assert calcularGanador(1, 1) == 'empate'\n",
    "assert calcularGanador(6, 1) == 'computador'\n",
    "assert calcularGanador(0, 1) == 'computador'\n",
    "assert calcularGanador(2, 1) == 'humano'\n",
    "\n",
    "\n",
    "# Cuerpo del código\n",
    "humano = int(input('Ingrese piedra(1), papel(2), tijera(3), spock(4), lagarto(5)'))\n",
    "\n",
    "print('Jugaste:', cachipunExtremo(humano))\n",
    "\n",
    "computador = random.randint(1,5)\n",
    "\n",
    "print('Computador jugó:', cachipunExtremo(computador))\n",
    "\n",
    "print('Ganador:', calcularGanador(humano, computador))"
   ]
  },
  {
   "cell_type": "code",
   "execution_count": 85,
   "id": "e915caf9-4c3b-408c-affd-68661bbe79c5",
   "metadata": {},
   "outputs": [
    {
     "name": "stdout",
     "output_type": "stream",
     "text": [
      "3\n",
      "4\n",
      "2\n",
      "3\n",
      "4\n",
      "----\n",
      "0\n",
      "1\n",
      "0\n",
      "3\n",
      "3\n"
     ]
    }
   ],
   "source": [
    "#    1   5 or 3\n",
    "#    2   1 or 4\n",
    "#    3   5 or 2\n",
    "#    4   1 or 3\n",
    "#    5   2 or 4\n",
    "mod = 3\n",
    "\n",
    "print(1 % mod + 2)\n",
    "print(2 % mod + 2)\n",
    "print(3 % mod + 2)\n",
    "print(4 % mod + 2)\n",
    "print(5 % mod + 2)\n",
    "print('----')\n",
    "print(mod % 1)\n",
    "print(mod % 2)\n",
    "print(mod % 3)\n",
    "print(mod % 4)\n",
    "print(mod % 5)"
   ]
  }
 ],
 "metadata": {
  "kernelspec": {
   "display_name": "Python 3 (ipykernel)",
   "language": "python",
   "name": "python3"
  },
  "language_info": {
   "codemirror_mode": {
    "name": "ipython",
    "version": 3
   },
   "file_extension": ".py",
   "mimetype": "text/x-python",
   "name": "python",
   "nbconvert_exporter": "python",
   "pygments_lexer": "ipython3",
   "version": "3.11.4"
  }
 },
 "nbformat": 4,
 "nbformat_minor": 5
}
