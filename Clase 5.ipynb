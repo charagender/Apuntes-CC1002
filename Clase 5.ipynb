{
 "cells": [
  {
   "cell_type": "code",
   "execution_count": 1,
   "id": "7e08be64-748e-4507-860d-d21ef167a73a",
   "metadata": {},
   "outputs": [],
   "source": [
    "# Clase 5: Recursividad"
   ]
  },
  {
   "cell_type": "code",
   "execution_count": null,
   "id": "fd1cfd85-483b-43de-8de3-8d1447fd7410",
   "metadata": {},
   "outputs": [],
   "source": [
    "## Esto es algo que suele ser difícil, especialmente a este nivel"
   ]
  },
  {
   "cell_type": "code",
   "execution_count": 7,
   "id": "3f058466-9575-4369-9256-fee62a4e1e37",
   "metadata": {},
   "outputs": [],
   "source": [
    "## Para ayudar con esto, veamos ejemplos de la recursividad en la vida cotidiana\n",
    "\n",
    "# - Un árbol es una rama\n",
    "# - Una rama es una rama de donde salen dos ramas\n",
    "# - Una rama es una rama de donde salen dos ramas\n",
    "# - Una rama es una rama de donde salen dos ramas\n",
    "# - Una rama es una rama de donde salen dos ramas\n",
    "# - ...\n",
    "# - Eventualmente, de la rama sale una hoja\n",
    "\n",
    "# Los copos de nieve son recursivos; son la misma estructura que se repite muchas veces"
   ]
  },
  {
   "cell_type": "code",
   "execution_count": 8,
   "id": "ef30ce24-a3fa-426d-bb8d-b17799b08554",
   "metadata": {},
   "outputs": [],
   "source": [
    "## Recursión y humor"
   ]
  },
  {
   "cell_type": "code",
   "execution_count": null,
   "id": "f2892372-0794-4724-a00a-32ef3458ef00",
   "metadata": {},
   "outputs": [],
   "source": [
    "# Si es que buscamos \"recursión\" en Google, sale \"quizás quisiste decir: recursión\" \n",
    "\n",
    "# \"Para entender la recursión, hay que primero entender la recursión\""
   ]
  },
  {
   "cell_type": "code",
   "execution_count": null,
   "id": "ce46a92b-ac14-4dc3-9660-ca8e96f802c7",
   "metadata": {},
   "outputs": [],
   "source": [
    "## Recursión"
   ]
  },
  {
   "cell_type": "code",
   "execution_count": null,
   "id": "4236bdcd-474d-4ad1-9d43-166c258b8ec7",
   "metadata": {},
   "outputs": [],
   "source": [
    "## Algo es recursivo si:\n",
    "# 1. Tiene un caso base que no requiere recursión\n",
    "# 2. Todo el resto de los casos ocupan algún caso anterior de si mismo\n",
    "\n",
    "def funcionRecursiva(x):\n",
    "    base = 1\n",
    "    return(funcionRecursiva(x - base))"
   ]
  },
  {
   "cell_type": "code",
   "execution_count": 9,
   "id": "d36425b2-f69e-4e0b-90dc-9bc3a3110aa7",
   "metadata": {},
   "outputs": [],
   "source": [
    "# potencia2(int -> int)\n",
    "# dado un exponente, calcula 2 elevado al exponente\n",
    "# ej: potencia2(0) retorna 1\n",
    "# ej: potencia2(3) retorna 8\n",
    "\n",
    "def potencia2(exponente):\n",
    "    if exponente == 0:\n",
    "        return 1\n",
    "    else:\n",
    "        return 2 * potencia2(exponente - 1)\n",
    "\n",
    "# Test\n",
    "assert potencia2(0) == 1\n",
    "assert potencia2(3) == 8\n",
    "        \n",
    "## Notar que aquí hay dos `return`\n",
    "## **la recursión es el único caso en el que se puede usar más de uno**"
   ]
  },
  {
   "cell_type": "code",
   "execution_count": 10,
   "id": "87c9d21e-865d-4d3e-8558-1361bde0d76b",
   "metadata": {},
   "outputs": [],
   "source": [
    "## Vamos paso por paso a ver lo que pasa cuando llamamos potencia2(3)\n",
    "\n",
    "def potencia2(exponente):\n",
    "    if exponente == 0:\n",
    "        return 1\n",
    "    else:\n",
    "        return 2 * potencia2(exponente - 1)\n",
    "\n",
    "## potencia2(3): vemos que el exponente no es igual a 0, entonces calculamos potencia2(3-1)\n",
    "## potencia2(2): vemos que el exponente no es igual a 0, entonces calculamos potencia2(2-1)\n",
    "## potencia2(1): vemos que el exponente no es igual a 0, entonces calculamos potencia2(1-1)\n",
    "## potencia2(0): vemos que el exponente es igual a 0, por lo que retornamos 1\n",
    "## potencia2(1): tenemos el valor del caso anterior, entonces retornamos 2 * 1, que es 2\n",
    "## potencia2(2): tenemos el valor del caso anterior, entonces retornamos 2 * 2, que es 4\n",
    "## potencia2(3): tenemos el valor del caso anterior, entonces retornamos 2 * 3, que es 8\n",
    "\n",
    "assert potencia2(0) == 1\n",
    "assert potencia2(1) == 2\n",
    "assert potencia2(2) == 4\n",
    "assert potencia2(3) == 8"
   ]
  },
  {
   "cell_type": "code",
   "execution_count": 12,
   "id": "5680dd7b-0b2b-4904-8e37-a7d56aa446b3",
   "metadata": {},
   "outputs": [
    {
     "data": {
      "text/plain": [
       "8"
      ]
     },
     "execution_count": 12,
     "metadata": {},
     "output_type": "execute_result"
    }
   ],
   "source": [
    "## Hacemos la misma función potencia2, pero para todo número\n",
    "\n",
    "def potencia(numero, exponente):\n",
    "    assert not(numero == 0)\n",
    "    if exponente == 0:\n",
    "        return 1\n",
    "    else:\n",
    "        return (numero * potencia(numero, exponente - 1))\n",
    "\n",
    "assert potencia(2, 3) == 8\n",
    "\n",
    "## Darse cuenta que lo único que hicimos fue introducir una variable \"numero\", y cambiar 2 por \"numero\""
   ]
  },
  {
   "cell_type": "code",
   "execution_count": null,
   "id": "826972c1-6bb4-481b-a5c5-9e3dc66a1709",
   "metadata": {},
   "outputs": [],
   "source": [
    "## Recursión: Suma de dígitos"
   ]
  },
  {
   "cell_type": "code",
   "execution_count": 15,
   "id": "293d9be3-ae6a-47cb-9d2f-1de777a86695",
   "metadata": {},
   "outputs": [],
   "source": [
    "# sumarDigitos(num -> num)\n",
    "# Suma todos los dígitos individuales de un número dado\n",
    "# ej: sumarDigitos(9) retorna 9\n",
    "# ej: sumarDigitos(3425) retorna 14\n",
    "def sumarDigitos(numero):\n",
    "    if (numero >= 1 and numero <= 9):\n",
    "        return numero\n",
    "        \n",
    "    ultimo= numero % 10\n",
    "    resto = numero // 10\n",
    "    \n",
    "    return ultimo + sumarDigitos(resto)\n",
    "\n",
    "# Test\n",
    "assert sumarDigitos(3425) == 14"
   ]
  },
  {
   "cell_type": "code",
   "execution_count": 16,
   "id": "cc85b2ed-448e-4df2-a3bf-d73e11c74870",
   "metadata": {},
   "outputs": [],
   "source": [
    "## Recursión: Fibonacci"
   ]
  },
  {
   "cell_type": "code",
   "execution_count": 22,
   "id": "76c7453b-e482-472c-b4d9-b8df5422fbf4",
   "metadata": {},
   "outputs": [
    {
     "data": {
      "text/plain": [
       "13"
      ]
     },
     "execution_count": 22,
     "metadata": {},
     "output_type": "execute_result"
    }
   ],
   "source": [
    "def secuenciaFibonacci(n):\n",
    "    if n == 0 or n == 1:\n",
    "        return 1\n",
    "    else:\n",
    "        return (secuenciaFibonacci(n - 1) + secuenciaFibonacci(n - 2))\n",
    "\n",
    "secuenciaFibonacci(6)"
   ]
  },
  {
   "cell_type": "code",
   "execution_count": 23,
   "id": "6652f3ce-c7aa-41ee-a249-d34a1699fd98",
   "metadata": {},
   "outputs": [],
   "source": [
    "# Ejercicio"
   ]
  },
  {
   "cell_type": "code",
   "execution_count": 68,
   "id": "a843dcdb-937b-4f3f-bfba-275cb7e9d11c",
   "metadata": {},
   "outputs": [],
   "source": [
    "# largoNumero(int -> int)\n",
    "# contar cuántos dígitos tiene un número dado\n",
    "# ej: largoNumero(2332) retorna 4\n",
    "def largoNumero(numero):\n",
    "    return len(str(numero))\n",
    "\n",
    "# Test\n",
    "assert largoNumero(2332) == 4\n",
    "\n",
    "# invertirNatural(int -> int\n",
    "# Invierte los dígitos de un número dado\n",
    "# ej: invertirNatural(4321) retorna 1234\n",
    "# ej: invertirNatural(3211) retorna 1123\n",
    "def invertirNatural(numero):\n",
    "    if(numero // 10 == 0):\n",
    "        return numero\n",
    "    else:\n",
    "        ultimo = numero % 10\n",
    "        numeroSinUltimo = numero // 10\n",
    "        return ultimo * 10**(largoNumero(numeroSinUltimo)) + invertirNatural(numeroSinUltimo)\n",
    "\n",
    "# Test\n",
    "assert invertirNatural(4321) == 1234\n",
    "assert invertirNatural(3211) == 1123\n",
    "\n",
    "# esPalindromo(int -> bool)\n",
    "# Te dice si un número dado es políndromo o no\n",
    "# ej: esPalindromo(3443) retorna True\n",
    "# ej: esPalindromo(4322) retorna False\n",
    "def esPalindromo(numero):\n",
    "    return numero == invertirNatural(numero)\n",
    "\n",
    "# Test\n",
    "assert esPalindromo(3443)\n",
    "assert not esPalindromo(4332)"
   ]
  },
  {
   "cell_type": "code",
   "execution_count": 39,
   "id": "ec4f62c0-0c7c-42aa-9bd5-5e699f8ee51a",
   "metadata": {},
   "outputs": [
    {
     "name": "stdout",
     "output_type": "stream",
     "text": [
      "322\n",
      "32\n",
      "3\n",
      "0\n"
     ]
    }
   ],
   "source": [
    "print(3223 // 10)\n",
    "print(322 // 10)\n",
    "print(32 // 10)\n",
    "print(3 // 10)"
   ]
  },
  {
   "cell_type": "code",
   "execution_count": null,
   "id": "9ec9573a-b75d-4ab5-96e2-f64d3ca11527",
   "metadata": {},
   "outputs": [],
   "source": [
    "print(43"
   ]
  }
 ],
 "metadata": {
  "kernelspec": {
   "display_name": "Python 3 (ipykernel)",
   "language": "python",
   "name": "python3"
  },
  "language_info": {
   "codemirror_mode": {
    "name": "ipython",
    "version": 3
   },
   "file_extension": ".py",
   "mimetype": "text/x-python",
   "name": "python",
   "nbconvert_exporter": "python",
   "pygments_lexer": "ipython3",
   "version": "3.11.4"
  }
 },
 "nbformat": 4,
 "nbformat_minor": 5
}
