{
 "cells": [
  {
   "cell_type": "code",
   "execution_count": null,
   "id": "139ad1e2-d82d-45b8-9797-0aa349731a7f",
   "metadata": {},
   "outputs": [],
   "source": [
    "# Clase 2: Funciones, Módulos, Interacción"
   ]
  },
  {
   "cell_type": "code",
   "execution_count": 3,
   "id": "193795e0-6fca-4a8c-8b57-afb7c7a29203",
   "metadata": {},
   "outputs": [],
   "source": [
    "### Buena práctica:\n",
    "### Usar un solo return en el código.\n",
    "### Si el resultado puede variar, entonces usar una variable paraáeste."
   ]
  },
  {
   "cell_type": "code",
   "execution_count": 4,
   "id": "cb25d2fa-b69f-4127-80da-5f31e0ef2a64",
   "metadata": {},
   "outputs": [],
   "source": [
    "### Todo código fuera de una función se le llama cuerpo de la función\n",
    "def f1(a):\n",
    "    b = 5\n",
    "    return b*a\n",
    "\n",
    "# Test (Cuerpo del programa)\n",
    "assert f1(5) == 25"
   ]
  },
  {
   "cell_type": "code",
   "execution_count": 9,
   "id": "eb43a9d8-368d-496a-8d3f-2ba71c72cf7a",
   "metadata": {},
   "outputs": [
    {
     "name": "stdout",
     "output_type": "stream",
     "text": [
      "8\n"
     ]
    }
   ],
   "source": [
    "### Notar que las variable que existen dentro de funciones solo existen dentro de ellas\n",
    "b = 8\n",
    "def f1(a):\n",
    "    b = 5\n",
    "    return b*a\n",
    "\n",
    "# Test: Verificar que b no es igual a 5, ya que eso solo pasa durante la función\n",
    "assert b != 5\n",
    "\n",
    "print(b)"
   ]
  },
  {
   "cell_type": "code",
   "execution_count": 10,
   "id": "5c04d996-b909-4d78-a6ab-11dde6d7b4cb",
   "metadata": {},
   "outputs": [],
   "source": [
    "## Malas prácticas"
   ]
  },
  {
   "cell_type": "code",
   "execution_count": null,
   "id": "79850442-f7f1-4be4-a481-8ff5c4f78525",
   "metadata": {},
   "outputs": [],
   "source": [
    "### Usar muchos returns... (Usar solo uno y variables)\n",
    "### Usar muchas variables globales...\n",
    "### Hacer returns demasiado largos... (Dividir y reinar)"
   ]
  },
  {
   "cell_type": "code",
   "execution_count": null,
   "id": "508ea061-ba68-40c0-8099-a3e0bc4a0e04",
   "metadata": {},
   "outputs": [],
   "source": [
    "# Mala práctica\n",
    "def areaAnillo(interior, exterior):\n",
    "    return 3.14 * exterior ** 2 - 3.14 * interior ** 2\n",
    "\n",
    "# Buena práctica\n",
    "def areaCirculo(radio):\n",
    "    return pi * radio ** 2\n",
    "\n",
    "def areaAnillo(interior, exterior):\n",
    "    return areaCirculo(exterior) - areaCirculo(interior)\n",
    "\n",
    "### Esto se llama \"Descomposición Funcional\""
   ]
  },
  {
   "cell_type": "code",
   "execution_count": null,
   "id": "a04d8d9e-889c-4b56-ba48-a0f9a88d4b2f",
   "metadata": {},
   "outputs": [],
   "source": [
    "# Problema: Funciones simples"
   ]
  },
  {
   "cell_type": "code",
   "execution_count": 22,
   "id": "5c2e0cd2-ec51-4cc7-91b4-e82781f2750f",
   "metadata": {},
   "outputs": [],
   "source": [
    "# espectadores: int -> int\n",
    "# calcula la cantidad de espectadores, dado un precioEntrada\n",
    "# ej: espectadores(5500) retorna 105\n",
    "def espectadores(precioEntrada):\n",
    "    return 120 + (5000 - precioEntrada) // 500 * 15\n",
    "\n",
    "# Test\n",
    "assert espectadores(5500) == 105\n",
    "\n",
    "\n",
    "# ingreso: int -> int\n",
    "# calcular el ingreso total, dado precioEntrada\n",
    "# Ej: ingreso(5000) retorna 5000 * 120\n",
    "def ingreso(precioEntrada):\n",
    "    return precioEntrada * espectadores(precioEntrada)\n",
    "\n",
    "# Test\n",
    "assert ingreso(5000) == 5000 * 120\n",
    "\n",
    "\n",
    "# gasto: int -> int\n",
    "# calcular los gastos, dado un precioEntrada\n",
    "def gasto(precioEntrada):\n",
    "    return 180000 + 40 * espectadores(precioEntrada)\n",
    "\n",
    "# Test\n",
    "assert gasto(5000) == (180000 + 40 * 120)\n",
    "\n",
    "\n",
    "# ganancias: int -> int\n",
    "# calcular ganancias, dado un precioEntrada\n",
    "def ganancia(precioEntrada):\n",
    "    return ingreso(precioEntrada) - gasto(precioEntrada)"
   ]
  },
  {
   "cell_type": "code",
   "execution_count": 23,
   "id": "6c94ff84-0b3b-46bd-b356-6d0359fd6eff",
   "metadata": {},
   "outputs": [],
   "source": [
    "## Interacción"
   ]
  },
  {
   "cell_type": "code",
   "execution_count": 39,
   "id": "923f8723-75b0-4e50-8fde-8068c94ec013",
   "metadata": {},
   "outputs": [
    {
     "name": "stdin",
     "output_type": "stream",
     "text": [
      "Dime un número 10\n"
     ]
    },
    {
     "name": "stdout",
     "output_type": "stream",
     "text": [
      "10\n"
     ]
    },
    {
     "name": "stdin",
     "output_type": "stream",
     "text": [
      "Cuál es tu nombre? Scarlet\n"
     ]
    },
    {
     "name": "stdout",
     "output_type": "stream",
     "text": [
      "hi Scarlet\n",
      "hi Scarlet\n",
      "el número 10\n"
     ]
    },
    {
     "ename": "TypeError",
     "evalue": "can only concatenate str (not \"int\") to str",
     "output_type": "error",
     "traceback": [
      "\u001b[1;31m---------------------------------------------------------------------------\u001b[0m",
      "\u001b[1;31mTypeError\u001b[0m                                 Traceback (most recent call last)",
      "Cell \u001b[1;32mIn[39], line 20\u001b[0m\n\u001b[0;32m     17\u001b[0m \u001b[38;5;28mprint\u001b[39m(\u001b[38;5;124m'\u001b[39m\u001b[38;5;124mel número\u001b[39m\u001b[38;5;124m'\u001b[39m, \u001b[38;5;241m10\u001b[39m)\n\u001b[0;32m     19\u001b[0m \u001b[38;5;66;03m# no se puede concatenar un string con un número con el operador +\u001b[39;00m\n\u001b[1;32m---> 20\u001b[0m \u001b[38;5;28mprint\u001b[39m(\u001b[38;5;124;43m'\u001b[39;49m\u001b[38;5;124;43mel número \u001b[39;49m\u001b[38;5;124;43m'\u001b[39;49m\u001b[43m \u001b[49m\u001b[38;5;241;43m+\u001b[39;49m\u001b[43m \u001b[49m\u001b[38;5;241;43m10\u001b[39;49m)\n",
      "\u001b[1;31mTypeError\u001b[0m: can only concatenate str (not \"int\") to str"
     ]
    }
   ],
   "source": [
    "### Forma de \"conversar\" con la persona que está corriendo el programa\n",
    "\n",
    "# ingreso de un número\n",
    "numero = int(input('Dime un número'))\n",
    "print(numero)\n",
    "\n",
    "# ingreso de un string\n",
    "nombre = input('Cuál es tu nombre?')\n",
    "\n",
    "# concatenación de dos strings con el operador '+'\n",
    "print('hi ' + nombre)\n",
    "\n",
    "# poner un string después de otro con la ','\n",
    "print('hi', nombre)\n",
    "\n",
    "# se puede concatenar un string con un número con el operador ','\n",
    "print('el número', 10)\n",
    "\n",
    "# no se puede concatenar un string con un número con el operador +\n",
    "print('el número ' + 10)"
   ]
  },
  {
   "cell_type": "code",
   "execution_count": 38,
   "id": "993fcde2-0bf4-4218-ba7b-6f84a617806d",
   "metadata": {},
   "outputs": [],
   "source": [
    "## Módulos"
   ]
  },
  {
   "cell_type": "code",
   "execution_count": null,
   "id": "d0ae1af0-2586-4c48-82b6-09a32014641f",
   "metadata": {},
   "outputs": [],
   "source": [
    "# Se puede guardar un archivo *.py con funciones. Esto es un \"Módulo\".\n",
    "# Para que se pueda importar un módulo, debe existir dentro de la misma carpeta que estoy trabajando\n",
    "# Se puede invocar funciones de un módulo con el nombre de este + . + nombreFuncion()\n",
    "# Supongamos que tenemos las funciones del problema del cine en un archivo \"cine.py\", entonces:\n",
    "import cine\n",
    "\n",
    "precio = 5500\n",
    "publico = cine.espectadores(precio)\n",
    "margen = cine.ganancia(precio)\n",
    "\n",
    "print(\"Precio entrada:\", precio)\n",
    "print(\"Nro. Espectadores:\", publico)\n",
    "print(\"La ganancia es:\", margen)"
   ]
  }
 ],
 "metadata": {
  "kernelspec": {
   "display_name": "Python 3 (ipykernel)",
   "language": "python",
   "name": "python3"
  },
  "language_info": {
   "codemirror_mode": {
    "name": "ipython",
    "version": 3
   },
   "file_extension": ".py",
   "mimetype": "text/x-python",
   "name": "python",
   "nbconvert_exporter": "python",
   "pygments_lexer": "ipython3",
   "version": "3.11.4"
  }
 },
 "nbformat": 4,
 "nbformat_minor": 5
}
